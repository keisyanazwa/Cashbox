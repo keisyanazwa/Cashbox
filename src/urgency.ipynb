{
  "nbformat": 4,
  "nbformat_minor": 0,
  "metadata": {
    "colab": {
      "provenance": []
    },
    "kernelspec": {
      "name": "python3",
      "display_name": "Python 3"
    },
    "language_info": {
      "name": "python"
    }
  },
  "cells": [
    {
      "cell_type": "markdown",
      "source": [
        "# Expenses Urgency Prediction Notebook"
      ],
      "metadata": {
        "id": "C8CBvs0ZCeza"
      }
    },
    {
      "cell_type": "markdown",
      "source": [
        "## Install Required Libraries"
      ],
      "metadata": {
        "id": "3NKcQiygCpHk"
      }
    },
    {
      "cell_type": "code",
      "execution_count": 1,
      "metadata": {
        "colab": {
          "base_uri": "https://localhost:8080/"
        },
        "id": "a3ZllGgUCNY6",
        "outputId": "6efda6d7-f0f6-4dc0-9f2b-60fa3e36eef0"
      },
      "outputs": [
        {
          "output_type": "stream",
          "name": "stdout",
          "text": [
            "Requirement already satisfied: pandas in /usr/local/lib/python3.10/dist-packages (2.2.2)\n",
            "Requirement already satisfied: scikit-learn in /usr/local/lib/python3.10/dist-packages (1.5.2)\n",
            "Requirement already satisfied: tensorflow in /usr/local/lib/python3.10/dist-packages (2.17.1)\n",
            "Requirement already satisfied: matplotlib in /usr/local/lib/python3.10/dist-packages (3.8.0)\n",
            "Requirement already satisfied: numpy>=1.22.4 in /usr/local/lib/python3.10/dist-packages (from pandas) (1.26.4)\n",
            "Requirement already satisfied: python-dateutil>=2.8.2 in /usr/local/lib/python3.10/dist-packages (from pandas) (2.8.2)\n",
            "Requirement already satisfied: pytz>=2020.1 in /usr/local/lib/python3.10/dist-packages (from pandas) (2024.2)\n",
            "Requirement already satisfied: tzdata>=2022.7 in /usr/local/lib/python3.10/dist-packages (from pandas) (2024.2)\n",
            "Requirement already satisfied: scipy>=1.6.0 in /usr/local/lib/python3.10/dist-packages (from scikit-learn) (1.13.1)\n",
            "Requirement already satisfied: joblib>=1.2.0 in /usr/local/lib/python3.10/dist-packages (from scikit-learn) (1.4.2)\n",
            "Requirement already satisfied: threadpoolctl>=3.1.0 in /usr/local/lib/python3.10/dist-packages (from scikit-learn) (3.5.0)\n",
            "Requirement already satisfied: absl-py>=1.0.0 in /usr/local/lib/python3.10/dist-packages (from tensorflow) (1.4.0)\n",
            "Requirement already satisfied: astunparse>=1.6.0 in /usr/local/lib/python3.10/dist-packages (from tensorflow) (1.6.3)\n",
            "Requirement already satisfied: flatbuffers>=24.3.25 in /usr/local/lib/python3.10/dist-packages (from tensorflow) (24.3.25)\n",
            "Requirement already satisfied: gast!=0.5.0,!=0.5.1,!=0.5.2,>=0.2.1 in /usr/local/lib/python3.10/dist-packages (from tensorflow) (0.6.0)\n",
            "Requirement already satisfied: google-pasta>=0.1.1 in /usr/local/lib/python3.10/dist-packages (from tensorflow) (0.2.0)\n",
            "Requirement already satisfied: h5py>=3.10.0 in /usr/local/lib/python3.10/dist-packages (from tensorflow) (3.12.1)\n",
            "Requirement already satisfied: libclang>=13.0.0 in /usr/local/lib/python3.10/dist-packages (from tensorflow) (18.1.1)\n",
            "Requirement already satisfied: ml-dtypes<0.5.0,>=0.3.1 in /usr/local/lib/python3.10/dist-packages (from tensorflow) (0.4.1)\n",
            "Requirement already satisfied: opt-einsum>=2.3.2 in /usr/local/lib/python3.10/dist-packages (from tensorflow) (3.4.0)\n",
            "Requirement already satisfied: packaging in /usr/local/lib/python3.10/dist-packages (from tensorflow) (24.2)\n",
            "Requirement already satisfied: protobuf!=4.21.0,!=4.21.1,!=4.21.2,!=4.21.3,!=4.21.4,!=4.21.5,<5.0.0dev,>=3.20.3 in /usr/local/lib/python3.10/dist-packages (from tensorflow) (4.25.5)\n",
            "Requirement already satisfied: requests<3,>=2.21.0 in /usr/local/lib/python3.10/dist-packages (from tensorflow) (2.32.3)\n",
            "Requirement already satisfied: setuptools in /usr/local/lib/python3.10/dist-packages (from tensorflow) (75.1.0)\n",
            "Requirement already satisfied: six>=1.12.0 in /usr/local/lib/python3.10/dist-packages (from tensorflow) (1.16.0)\n",
            "Requirement already satisfied: termcolor>=1.1.0 in /usr/local/lib/python3.10/dist-packages (from tensorflow) (2.5.0)\n",
            "Requirement already satisfied: typing-extensions>=3.6.6 in /usr/local/lib/python3.10/dist-packages (from tensorflow) (4.12.2)\n",
            "Requirement already satisfied: wrapt>=1.11.0 in /usr/local/lib/python3.10/dist-packages (from tensorflow) (1.17.0)\n",
            "Requirement already satisfied: grpcio<2.0,>=1.24.3 in /usr/local/lib/python3.10/dist-packages (from tensorflow) (1.68.1)\n",
            "Requirement already satisfied: tensorboard<2.18,>=2.17 in /usr/local/lib/python3.10/dist-packages (from tensorflow) (2.17.1)\n",
            "Requirement already satisfied: keras>=3.2.0 in /usr/local/lib/python3.10/dist-packages (from tensorflow) (3.5.0)\n",
            "Requirement already satisfied: tensorflow-io-gcs-filesystem>=0.23.1 in /usr/local/lib/python3.10/dist-packages (from tensorflow) (0.37.1)\n",
            "Requirement already satisfied: contourpy>=1.0.1 in /usr/local/lib/python3.10/dist-packages (from matplotlib) (1.3.1)\n",
            "Requirement already satisfied: cycler>=0.10 in /usr/local/lib/python3.10/dist-packages (from matplotlib) (0.12.1)\n",
            "Requirement already satisfied: fonttools>=4.22.0 in /usr/local/lib/python3.10/dist-packages (from matplotlib) (4.55.1)\n",
            "Requirement already satisfied: kiwisolver>=1.0.1 in /usr/local/lib/python3.10/dist-packages (from matplotlib) (1.4.7)\n",
            "Requirement already satisfied: pillow>=6.2.0 in /usr/local/lib/python3.10/dist-packages (from matplotlib) (11.0.0)\n",
            "Requirement already satisfied: pyparsing>=2.3.1 in /usr/local/lib/python3.10/dist-packages (from matplotlib) (3.2.0)\n",
            "Requirement already satisfied: wheel<1.0,>=0.23.0 in /usr/local/lib/python3.10/dist-packages (from astunparse>=1.6.0->tensorflow) (0.45.1)\n",
            "Requirement already satisfied: rich in /usr/local/lib/python3.10/dist-packages (from keras>=3.2.0->tensorflow) (13.9.4)\n",
            "Requirement already satisfied: namex in /usr/local/lib/python3.10/dist-packages (from keras>=3.2.0->tensorflow) (0.0.8)\n",
            "Requirement already satisfied: optree in /usr/local/lib/python3.10/dist-packages (from keras>=3.2.0->tensorflow) (0.13.1)\n",
            "Requirement already satisfied: charset-normalizer<4,>=2 in /usr/local/lib/python3.10/dist-packages (from requests<3,>=2.21.0->tensorflow) (3.4.0)\n",
            "Requirement already satisfied: idna<4,>=2.5 in /usr/local/lib/python3.10/dist-packages (from requests<3,>=2.21.0->tensorflow) (3.10)\n",
            "Requirement already satisfied: urllib3<3,>=1.21.1 in /usr/local/lib/python3.10/dist-packages (from requests<3,>=2.21.0->tensorflow) (2.2.3)\n",
            "Requirement already satisfied: certifi>=2017.4.17 in /usr/local/lib/python3.10/dist-packages (from requests<3,>=2.21.0->tensorflow) (2024.8.30)\n",
            "Requirement already satisfied: markdown>=2.6.8 in /usr/local/lib/python3.10/dist-packages (from tensorboard<2.18,>=2.17->tensorflow) (3.7)\n",
            "Requirement already satisfied: tensorboard-data-server<0.8.0,>=0.7.0 in /usr/local/lib/python3.10/dist-packages (from tensorboard<2.18,>=2.17->tensorflow) (0.7.2)\n",
            "Requirement already satisfied: werkzeug>=1.0.1 in /usr/local/lib/python3.10/dist-packages (from tensorboard<2.18,>=2.17->tensorflow) (3.1.3)\n",
            "Requirement already satisfied: MarkupSafe>=2.1.1 in /usr/local/lib/python3.10/dist-packages (from werkzeug>=1.0.1->tensorboard<2.18,>=2.17->tensorflow) (3.0.2)\n",
            "Requirement already satisfied: markdown-it-py>=2.2.0 in /usr/local/lib/python3.10/dist-packages (from rich->keras>=3.2.0->tensorflow) (3.0.0)\n",
            "Requirement already satisfied: pygments<3.0.0,>=2.13.0 in /usr/local/lib/python3.10/dist-packages (from rich->keras>=3.2.0->tensorflow) (2.18.0)\n",
            "Requirement already satisfied: mdurl~=0.1 in /usr/local/lib/python3.10/dist-packages (from markdown-it-py>=2.2.0->rich->keras>=3.2.0->tensorflow) (0.1.2)\n"
          ]
        }
      ],
      "source": [
        "!pip install pandas scikit-learn tensorflow matplotlib"
      ]
    },
    {
      "cell_type": "markdown",
      "source": [
        "## Import Libraries"
      ],
      "metadata": {
        "id": "BTEDQudbC43l"
      }
    },
    {
      "cell_type": "code",
      "source": [
        "import os\n",
        "import pandas as pd\n",
        "import tensorflow as tf\n",
        "import matplotlib.pyplot as plt\n",
        "from sklearn.preprocessing import LabelEncoder, MinMaxScaler\n",
        "from sklearn.model_selection import train_test_split\n",
        "from difflib import SequenceMatcher"
      ],
      "metadata": {
        "id": "Qwrf0Cf5C6uv"
      },
      "execution_count": 2,
      "outputs": []
    },
    {
      "cell_type": "markdown",
      "source": [
        "## Data Processing"
      ],
      "metadata": {
        "id": "7awzg3UjD0rL"
      }
    },
    {
      "cell_type": "markdown",
      "source": [
        "#### 1. Load dataset"
      ],
      "metadata": {
        "id": "t6iDkYB5EJDs"
      }
    },
    {
      "cell_type": "code",
      "source": [
        "def load_data(file_path):\n",
        "    data = pd.read_csv(file_path)\n",
        "    urgency_map = {\"Tingg1\": 1, \"Sedang\": 2, \"Rendah\": 3}\n",
        "    data[\"Urgensi\"] = data[\"Urgensi\"].replace(urgency_map).astype(int)\n",
        "    return data"
      ],
      "metadata": {
        "id": "xaAboaAKC-Oi"
      },
      "execution_count": 3,
      "outputs": []
    },
    {
      "cell_type": "markdown",
      "source": [
        "#### 2. Preprocess data"
      ],
      "metadata": {
        "id": "m5bZPedaEFTk"
      }
    },
    {
      "cell_type": "code",
      "source": [
        "def preprocess_data(data):\n",
        "    le = LabelEncoder()\n",
        "    data[\"Kategori_Asli\"] = data[\"Kategori\"]  # Simpan kategori asli untuk pencocokan\n",
        "    data[\"Kategori\"] = le.fit_transform(data[\"Kategori\"])  # Encode kategori\n",
        "    scaler = MinMaxScaler()\n",
        "    data[\"Jumlah_Normalized\"] = scaler.fit_transform(data[[\"Jumlah\"]])\n",
        "    return data, le, scaler"
      ],
      "metadata": {
        "id": "9K_I_h_qEVf9"
      },
      "execution_count": 4,
      "outputs": []
    },
    {
      "cell_type": "markdown",
      "source": [
        "## Build and Train Model"
      ],
      "metadata": {
        "id": "TWkRFs_OE6AS"
      }
    },
    {
      "cell_type": "markdown",
      "source": [
        "#### 3. Build and train model"
      ],
      "metadata": {
        "id": "QlApnJy1FOnV"
      }
    },
    {
      "cell_type": "code",
      "source": [
        "def build_and_train_model(file_path, epochs=30, batch_size=32):\n",
        "    # Load and preprocess data\n",
        "    data = load_data(file_path)\n",
        "    data, le, scaler = preprocess_data(data)\n",
        "\n",
        "    # Prepare training and validation data\n",
        "    X = data[[\"Jumlah_Normalized\", \"Kategori\"]]\n",
        "    y = data[\"Urgensi\"]\n",
        "    X_train, X_val, y_train, y_val = train_test_split(X, y, test_size=0.2, random_state=42)\n",
        "\n",
        "    # Build model\n",
        "    model = tf.keras.models.Sequential([\n",
        "        tf.keras.layers.Input(shape=(2,)),\n",
        "        tf.keras.layers.Dense(128, activation='relu'),\n",
        "        tf.keras.layers.Dense(64, activation='relu'),\n",
        "        tf.keras.layers.Dense(32, activation='relu'),\n",
        "        tf.keras.layers.Dense(1, activation='linear')\n",
        "    ])\n",
        "    model.summary()\n",
        "\n",
        "    # Compile the model\n",
        "    model.compile(\n",
        "        optimizer=tf.keras.optimizers.Adam(learning_rate=0.001),\n",
        "        loss=tf.keras.losses.MeanSquaredError(),\n",
        "        metrics=[tf.keras.metrics.MeanAbsoluteError()]\n",
        "    )\n",
        "\n",
        "    # Train model\n",
        "    history = model.fit(X_train, y_train, validation_data=(X_val, y_val), epochs=epochs, batch_size=batch_size)\n",
        "\n",
        "    # Plot training history\n",
        "    plot_training_history(history)\n",
        "\n",
        "    # Save and convert the model\n",
        "    save_model(model)\n",
        "\n",
        "    return model\n",
        "\n",
        "# Function to plot training history\n",
        "def plot_training_history(history):\n",
        "    plt.figure(figsize=(12, 6))\n",
        "\n",
        "    # Plot loss\n",
        "    plt.subplot(1, 2, 1)\n",
        "    plt.plot(history.history['loss'], label='Training Loss')\n",
        "    plt.plot(history.history['val_loss'], label='Validation Loss')\n",
        "    plt.xlabel('Epochs')\n",
        "    plt.ylabel('Loss')\n",
        "    plt.title('Loss Over Epochs')\n",
        "    plt.legend()\n",
        "\n",
        "    # Plot MAE\n",
        "    plt.subplot(1, 2, 2)\n",
        "    plt.plot(history.history['mean_absolute_error'], label='Training MAE')\n",
        "    plt.plot(history.history['val_mean_absolute_error'], label='Validation MAE')\n",
        "    plt.xlabel('Epochs')\n",
        "    plt.ylabel('Mean Absolute Error')\n",
        "    plt.title('MAE Over Epochs')\n",
        "    plt.legend()\n",
        "\n",
        "    # Show the plot\n",
        "    plt.tight_layout()\n",
        "    plt.show()"
      ],
      "metadata": {
        "id": "PSIsFXaZE_Uf"
      },
      "execution_count": 6,
      "outputs": []
    },
    {
      "cell_type": "markdown",
      "source": [
        "#### 4. Function to plot training history"
      ],
      "metadata": {
        "id": "Bh1qnonPJ7nk"
      }
    },
    {
      "cell_type": "code",
      "source": [
        "def plot_training_history(history):\n",
        "    plt.figure(figsize=(12, 6))\n",
        "\n",
        "    # Plot loss\n",
        "    plt.subplot(1, 2, 1)\n",
        "    plt.plot(history.history['loss'], label='Training Loss')\n",
        "    plt.plot(history.history['val_loss'], label='Validation Loss')\n",
        "    plt.xlabel('Epochs')\n",
        "    plt.ylabel('Loss')\n",
        "    plt.title('Loss Over Epochs')\n",
        "    plt.legend()\n",
        "\n",
        "    # Plot MAE\n",
        "    plt.subplot(1, 2, 2)\n",
        "    plt.plot(history.history['mean_absolute_error'], label='Training MAE')\n",
        "    plt.plot(history.history['val_mean_absolute_error'], label='Validation MAE')\n",
        "    plt.xlabel('Epochs')\n",
        "    plt.ylabel('Mean Absolute Error')\n",
        "    plt.title('MAE Over Epochs')\n",
        "    plt.legend()\n",
        "\n",
        "    # Show the plot\n",
        "    plt.tight_layout()\n",
        "    plt.show()"
      ],
      "metadata": {
        "id": "WZ8EVzLUKfd_"
      },
      "execution_count": 7,
      "outputs": []
    },
    {
      "cell_type": "markdown",
      "source": [
        "#### 5. Function to save the model"
      ],
      "metadata": {
        "id": "au0h-605Kyw5"
      }
    },
    {
      "cell_type": "code",
      "source": [
        "def save_model(model):\n",
        "    model_dir = 'models'\n",
        "    os.makedirs(model_dir, exist_ok=True)\n",
        "\n",
        "    # Save the model in .h5 format\n",
        "    model.save(os.path.join(model_dir, 'predict_model.h5'))\n",
        "\n",
        "    # Convert the model to TensorFlow Lite format\n",
        "    converter = tf.lite.TFLiteConverter.from_keras_model(model)\n",
        "    tflite_model = converter.convert()\n",
        "\n",
        "    # Save the converted model as .tflite\n",
        "    with open(os.path.join(model_dir, 'predict_model.tflite'), 'wb') as f:\n",
        "        f.write(tflite_model)\n",
        "    print(\"Model saved and converted successfully!\")"
      ],
      "metadata": {
        "id": "3G0TlcjYKvb8"
      },
      "execution_count": 8,
      "outputs": []
    },
    {
      "cell_type": "markdown",
      "source": [
        "#### 6. Main function to train and save model"
      ],
      "metadata": {
        "id": "qbsgHoD3LETK"
      }
    },
    {
      "cell_type": "code",
      "source": [
        "def train_model():\n",
        "    file_path = \"data/dataset.csv\"\n",
        "    model = build_and_train_model(file_path, epochs=30)\n",
        "    print(\"Model training and saving completed!\")\n",
        "\n",
        "train_model()"
      ],
      "metadata": {
        "colab": {
          "base_uri": "https://localhost:8080/",
          "height": 1000
        },
        "id": "7BeiDg0CLHXJ",
        "outputId": "d7521f92-1b7b-424c-9b3d-e799246f7fb7"
      },
      "execution_count": 31,
      "outputs": [
        {
          "output_type": "display_data",
          "data": {
            "text/plain": [
              "\u001b[1mModel: \"sequential_2\"\u001b[0m\n"
            ],
            "text/html": [
              "<pre style=\"white-space:pre;overflow-x:auto;line-height:normal;font-family:Menlo,'DejaVu Sans Mono',consolas,'Courier New',monospace\"><span style=\"font-weight: bold\">Model: \"sequential_2\"</span>\n",
              "</pre>\n"
            ]
          },
          "metadata": {}
        },
        {
          "output_type": "display_data",
          "data": {
            "text/plain": [
              "┏━━━━━━━━━━━━━━━━━━━━━━━━━━━━━━━━━━━━━━┳━━━━━━━━━━━━━━━━━━━━━━━━━━━━━┳━━━━━━━━━━━━━━━━━┓\n",
              "┃\u001b[1m \u001b[0m\u001b[1mLayer (type)                        \u001b[0m\u001b[1m \u001b[0m┃\u001b[1m \u001b[0m\u001b[1mOutput Shape               \u001b[0m\u001b[1m \u001b[0m┃\u001b[1m \u001b[0m\u001b[1m        Param #\u001b[0m\u001b[1m \u001b[0m┃\n",
              "┡━━━━━━━━━━━━━━━━━━━━━━━━━━━━━━━━━━━━━━╇━━━━━━━━━━━━━━━━━━━━━━━━━━━━━╇━━━━━━━━━━━━━━━━━┩\n",
              "│ dense_8 (\u001b[38;5;33mDense\u001b[0m)                      │ (\u001b[38;5;45mNone\u001b[0m, \u001b[38;5;34m128\u001b[0m)                 │             \u001b[38;5;34m384\u001b[0m │\n",
              "├──────────────────────────────────────┼─────────────────────────────┼─────────────────┤\n",
              "│ dense_9 (\u001b[38;5;33mDense\u001b[0m)                      │ (\u001b[38;5;45mNone\u001b[0m, \u001b[38;5;34m64\u001b[0m)                  │           \u001b[38;5;34m8,256\u001b[0m │\n",
              "├──────────────────────────────────────┼─────────────────────────────┼─────────────────┤\n",
              "│ dense_10 (\u001b[38;5;33mDense\u001b[0m)                     │ (\u001b[38;5;45mNone\u001b[0m, \u001b[38;5;34m32\u001b[0m)                  │           \u001b[38;5;34m2,080\u001b[0m │\n",
              "├──────────────────────────────────────┼─────────────────────────────┼─────────────────┤\n",
              "│ dense_11 (\u001b[38;5;33mDense\u001b[0m)                     │ (\u001b[38;5;45mNone\u001b[0m, \u001b[38;5;34m1\u001b[0m)                   │              \u001b[38;5;34m33\u001b[0m │\n",
              "└──────────────────────────────────────┴─────────────────────────────┴─────────────────┘\n"
            ],
            "text/html": [
              "<pre style=\"white-space:pre;overflow-x:auto;line-height:normal;font-family:Menlo,'DejaVu Sans Mono',consolas,'Courier New',monospace\">┏━━━━━━━━━━━━━━━━━━━━━━━━━━━━━━━━━━━━━━┳━━━━━━━━━━━━━━━━━━━━━━━━━━━━━┳━━━━━━━━━━━━━━━━━┓\n",
              "┃<span style=\"font-weight: bold\"> Layer (type)                         </span>┃<span style=\"font-weight: bold\"> Output Shape                </span>┃<span style=\"font-weight: bold\">         Param # </span>┃\n",
              "┡━━━━━━━━━━━━━━━━━━━━━━━━━━━━━━━━━━━━━━╇━━━━━━━━━━━━━━━━━━━━━━━━━━━━━╇━━━━━━━━━━━━━━━━━┩\n",
              "│ dense_8 (<span style=\"color: #0087ff; text-decoration-color: #0087ff\">Dense</span>)                      │ (<span style=\"color: #00d7ff; text-decoration-color: #00d7ff\">None</span>, <span style=\"color: #00af00; text-decoration-color: #00af00\">128</span>)                 │             <span style=\"color: #00af00; text-decoration-color: #00af00\">384</span> │\n",
              "├──────────────────────────────────────┼─────────────────────────────┼─────────────────┤\n",
              "│ dense_9 (<span style=\"color: #0087ff; text-decoration-color: #0087ff\">Dense</span>)                      │ (<span style=\"color: #00d7ff; text-decoration-color: #00d7ff\">None</span>, <span style=\"color: #00af00; text-decoration-color: #00af00\">64</span>)                  │           <span style=\"color: #00af00; text-decoration-color: #00af00\">8,256</span> │\n",
              "├──────────────────────────────────────┼─────────────────────────────┼─────────────────┤\n",
              "│ dense_10 (<span style=\"color: #0087ff; text-decoration-color: #0087ff\">Dense</span>)                     │ (<span style=\"color: #00d7ff; text-decoration-color: #00d7ff\">None</span>, <span style=\"color: #00af00; text-decoration-color: #00af00\">32</span>)                  │           <span style=\"color: #00af00; text-decoration-color: #00af00\">2,080</span> │\n",
              "├──────────────────────────────────────┼─────────────────────────────┼─────────────────┤\n",
              "│ dense_11 (<span style=\"color: #0087ff; text-decoration-color: #0087ff\">Dense</span>)                     │ (<span style=\"color: #00d7ff; text-decoration-color: #00d7ff\">None</span>, <span style=\"color: #00af00; text-decoration-color: #00af00\">1</span>)                   │              <span style=\"color: #00af00; text-decoration-color: #00af00\">33</span> │\n",
              "└──────────────────────────────────────┴─────────────────────────────┴─────────────────┘\n",
              "</pre>\n"
            ]
          },
          "metadata": {}
        },
        {
          "output_type": "display_data",
          "data": {
            "text/plain": [
              "\u001b[1m Total params: \u001b[0m\u001b[38;5;34m10,753\u001b[0m (42.00 KB)\n"
            ],
            "text/html": [
              "<pre style=\"white-space:pre;overflow-x:auto;line-height:normal;font-family:Menlo,'DejaVu Sans Mono',consolas,'Courier New',monospace\"><span style=\"font-weight: bold\"> Total params: </span><span style=\"color: #00af00; text-decoration-color: #00af00\">10,753</span> (42.00 KB)\n",
              "</pre>\n"
            ]
          },
          "metadata": {}
        },
        {
          "output_type": "display_data",
          "data": {
            "text/plain": [
              "\u001b[1m Trainable params: \u001b[0m\u001b[38;5;34m10,753\u001b[0m (42.00 KB)\n"
            ],
            "text/html": [
              "<pre style=\"white-space:pre;overflow-x:auto;line-height:normal;font-family:Menlo,'DejaVu Sans Mono',consolas,'Courier New',monospace\"><span style=\"font-weight: bold\"> Trainable params: </span><span style=\"color: #00af00; text-decoration-color: #00af00\">10,753</span> (42.00 KB)\n",
              "</pre>\n"
            ]
          },
          "metadata": {}
        },
        {
          "output_type": "display_data",
          "data": {
            "text/plain": [
              "\u001b[1m Non-trainable params: \u001b[0m\u001b[38;5;34m0\u001b[0m (0.00 B)\n"
            ],
            "text/html": [
              "<pre style=\"white-space:pre;overflow-x:auto;line-height:normal;font-family:Menlo,'DejaVu Sans Mono',consolas,'Courier New',monospace\"><span style=\"font-weight: bold\"> Non-trainable params: </span><span style=\"color: #00af00; text-decoration-color: #00af00\">0</span> (0.00 B)\n",
              "</pre>\n"
            ]
          },
          "metadata": {}
        },
        {
          "output_type": "stream",
          "name": "stdout",
          "text": [
            "Epoch 1/30\n",
            "\u001b[1m5/5\u001b[0m \u001b[32m━━━━━━━━━━━━━━━━━━━━\u001b[0m\u001b[37m\u001b[0m \u001b[1m1s\u001b[0m 50ms/step - loss: 5.6234 - mean_absolute_error: 2.2060 - val_loss: 3.1199 - val_mean_absolute_error: 1.4248\n",
            "Epoch 2/30\n",
            "\u001b[1m5/5\u001b[0m \u001b[32m━━━━━━━━━━━━━━━━━━━━\u001b[0m\u001b[37m\u001b[0m \u001b[1m0s\u001b[0m 9ms/step - loss: 3.4890 - mean_absolute_error: 1.5891 - val_loss: 2.8849 - val_mean_absolute_error: 1.4827\n",
            "Epoch 3/30\n",
            "\u001b[1m5/5\u001b[0m \u001b[32m━━━━━━━━━━━━━━━━━━━━\u001b[0m\u001b[37m\u001b[0m \u001b[1m0s\u001b[0m 13ms/step - loss: 3.2978 - mean_absolute_error: 1.6137 - val_loss: 3.0985 - val_mean_absolute_error: 1.5991\n",
            "Epoch 4/30\n",
            "\u001b[1m5/5\u001b[0m \u001b[32m━━━━━━━━━━━━━━━━━━━━\u001b[0m\u001b[37m\u001b[0m \u001b[1m0s\u001b[0m 9ms/step - loss: 3.1289 - mean_absolute_error: 1.5862 - val_loss: 3.0329 - val_mean_absolute_error: 1.5812\n",
            "Epoch 5/30\n",
            "\u001b[1m5/5\u001b[0m \u001b[32m━━━━━━━━━━━━━━━━━━━━\u001b[0m\u001b[37m\u001b[0m \u001b[1m0s\u001b[0m 13ms/step - loss: 3.2697 - mean_absolute_error: 1.6110 - val_loss: 2.8834 - val_mean_absolute_error: 1.5299\n",
            "Epoch 6/30\n",
            "\u001b[1m5/5\u001b[0m \u001b[32m━━━━━━━━━━━━━━━━━━━━\u001b[0m\u001b[37m\u001b[0m \u001b[1m0s\u001b[0m 9ms/step - loss: 2.8296 - mean_absolute_error: 1.4712 - val_loss: 2.7167 - val_mean_absolute_error: 1.4578\n",
            "Epoch 7/30\n",
            "\u001b[1m5/5\u001b[0m \u001b[32m━━━━━━━━━━━━━━━━━━━━\u001b[0m\u001b[37m\u001b[0m \u001b[1m0s\u001b[0m 9ms/step - loss: 2.7670 - mean_absolute_error: 1.4320 - val_loss: 2.6294 - val_mean_absolute_error: 1.4280\n",
            "Epoch 8/30\n",
            "\u001b[1m5/5\u001b[0m \u001b[32m━━━━━━━━━━━━━━━━━━━━\u001b[0m\u001b[37m\u001b[0m \u001b[1m0s\u001b[0m 12ms/step - loss: 2.9256 - mean_absolute_error: 1.4893 - val_loss: 2.5866 - val_mean_absolute_error: 1.4407\n",
            "Epoch 9/30\n",
            "\u001b[1m5/5\u001b[0m \u001b[32m━━━━━━━━━━━━━━━━━━━━\u001b[0m\u001b[37m\u001b[0m \u001b[1m0s\u001b[0m 8ms/step - loss: 2.7383 - mean_absolute_error: 1.4589 - val_loss: 2.3955 - val_mean_absolute_error: 1.3670\n",
            "Epoch 10/30\n",
            "\u001b[1m5/5\u001b[0m \u001b[32m━━━━━━━━━━━━━━━━━━━━\u001b[0m\u001b[37m\u001b[0m \u001b[1m0s\u001b[0m 12ms/step - loss: 2.3940 - mean_absolute_error: 1.3425 - val_loss: 2.3512 - val_mean_absolute_error: 1.3813\n",
            "Epoch 11/30\n",
            "\u001b[1m5/5\u001b[0m \u001b[32m━━━━━━━━━━━━━━━━━━━━\u001b[0m\u001b[37m\u001b[0m \u001b[1m0s\u001b[0m 10ms/step - loss: 2.4027 - mean_absolute_error: 1.3751 - val_loss: 2.1981 - val_mean_absolute_error: 1.3335\n",
            "Epoch 12/30\n",
            "\u001b[1m5/5\u001b[0m \u001b[32m━━━━━━━━━━━━━━━━━━━━\u001b[0m\u001b[37m\u001b[0m \u001b[1m0s\u001b[0m 11ms/step - loss: 2.1698 - mean_absolute_error: 1.2734 - val_loss: 1.9375 - val_mean_absolute_error: 1.1942\n",
            "Epoch 13/30\n",
            "\u001b[1m5/5\u001b[0m \u001b[32m━━━━━━━━━━━━━━━━━━━━\u001b[0m\u001b[37m\u001b[0m \u001b[1m0s\u001b[0m 8ms/step - loss: 2.1164 - mean_absolute_error: 1.2805 - val_loss: 1.8972 - val_mean_absolute_error: 1.2452\n",
            "Epoch 14/30\n",
            "\u001b[1m5/5\u001b[0m \u001b[32m━━━━━━━━━━━━━━━━━━━━\u001b[0m\u001b[37m\u001b[0m \u001b[1m0s\u001b[0m 12ms/step - loss: 1.8294 - mean_absolute_error: 1.1804 - val_loss: 1.5729 - val_mean_absolute_error: 1.0931\n",
            "Epoch 15/30\n",
            "\u001b[1m5/5\u001b[0m \u001b[32m━━━━━━━━━━━━━━━━━━━━\u001b[0m\u001b[37m\u001b[0m \u001b[1m0s\u001b[0m 15ms/step - loss: 1.6999 - mean_absolute_error: 1.1426 - val_loss: 1.3826 - val_mean_absolute_error: 1.0298\n",
            "Epoch 16/30\n",
            "\u001b[1m5/5\u001b[0m \u001b[32m━━━━━━━━━━━━━━━━━━━━\u001b[0m\u001b[37m\u001b[0m \u001b[1m0s\u001b[0m 8ms/step - loss: 1.5044 - mean_absolute_error: 1.0843 - val_loss: 1.2064 - val_mean_absolute_error: 0.9645\n",
            "Epoch 17/30\n",
            "\u001b[1m5/5\u001b[0m \u001b[32m━━━━━━━━━━━━━━━━━━━━\u001b[0m\u001b[37m\u001b[0m \u001b[1m0s\u001b[0m 8ms/step - loss: 1.1685 - mean_absolute_error: 0.9413 - val_loss: 0.9883 - val_mean_absolute_error: 0.8751\n",
            "Epoch 18/30\n",
            "\u001b[1m5/5\u001b[0m \u001b[32m━━━━━━━━━━━━━━━━━━━━\u001b[0m\u001b[37m\u001b[0m \u001b[1m0s\u001b[0m 8ms/step - loss: 0.9657 - mean_absolute_error: 0.8461 - val_loss: 0.7831 - val_mean_absolute_error: 0.7890\n",
            "Epoch 19/30\n",
            "\u001b[1m5/5\u001b[0m \u001b[32m━━━━━━━━━━━━━━━━━━━━\u001b[0m\u001b[37m\u001b[0m \u001b[1m0s\u001b[0m 8ms/step - loss: 0.7113 - mean_absolute_error: 0.7389 - val_loss: 0.6510 - val_mean_absolute_error: 0.7198\n",
            "Epoch 20/30\n",
            "\u001b[1m5/5\u001b[0m \u001b[32m━━━━━━━━━━━━━━━━━━━━\u001b[0m\u001b[37m\u001b[0m \u001b[1m0s\u001b[0m 8ms/step - loss: 0.6034 - mean_absolute_error: 0.6647 - val_loss: 0.5026 - val_mean_absolute_error: 0.6556\n",
            "Epoch 21/30\n",
            "\u001b[1m5/5\u001b[0m \u001b[32m━━━━━━━━━━━━━━━━━━━━\u001b[0m\u001b[37m\u001b[0m \u001b[1m0s\u001b[0m 13ms/step - loss: 0.4686 - mean_absolute_error: 0.6083 - val_loss: 0.3886 - val_mean_absolute_error: 0.5781\n",
            "Epoch 22/30\n",
            "\u001b[1m5/5\u001b[0m \u001b[32m━━━━━━━━━━━━━━━━━━━━\u001b[0m\u001b[37m\u001b[0m \u001b[1m0s\u001b[0m 9ms/step - loss: 0.3675 - mean_absolute_error: 0.5450 - val_loss: 0.3425 - val_mean_absolute_error: 0.5396\n",
            "Epoch 23/30\n",
            "\u001b[1m5/5\u001b[0m \u001b[32m━━━━━━━━━━━━━━━━━━━━\u001b[0m\u001b[37m\u001b[0m \u001b[1m0s\u001b[0m 9ms/step - loss: 0.3459 - mean_absolute_error: 0.5365 - val_loss: 0.3169 - val_mean_absolute_error: 0.5088\n",
            "Epoch 24/30\n",
            "\u001b[1m5/5\u001b[0m \u001b[32m━━━━━━━━━━━━━━━━━━━━\u001b[0m\u001b[37m\u001b[0m \u001b[1m0s\u001b[0m 8ms/step - loss: 0.3061 - mean_absolute_error: 0.4454 - val_loss: 0.2854 - val_mean_absolute_error: 0.4738\n",
            "Epoch 25/30\n",
            "\u001b[1m5/5\u001b[0m \u001b[32m━━━━━━━━━━━━━━━━━━━━\u001b[0m\u001b[37m\u001b[0m \u001b[1m0s\u001b[0m 14ms/step - loss: 0.3093 - mean_absolute_error: 0.4655 - val_loss: 0.2577 - val_mean_absolute_error: 0.4383\n",
            "Epoch 26/30\n",
            "\u001b[1m5/5\u001b[0m \u001b[32m━━━━━━━━━━━━━━━━━━━━\u001b[0m\u001b[37m\u001b[0m \u001b[1m0s\u001b[0m 12ms/step - loss: 0.3302 - mean_absolute_error: 0.4304 - val_loss: 0.2988 - val_mean_absolute_error: 0.4554\n",
            "Epoch 27/30\n",
            "\u001b[1m5/5\u001b[0m \u001b[32m━━━━━━━━━━━━━━━━━━━━\u001b[0m\u001b[37m\u001b[0m \u001b[1m0s\u001b[0m 10ms/step - loss: 0.2990 - mean_absolute_error: 0.4538 - val_loss: 0.2668 - val_mean_absolute_error: 0.4517\n",
            "Epoch 28/30\n",
            "\u001b[1m5/5\u001b[0m \u001b[32m━━━━━━━━━━━━━━━━━━━━\u001b[0m\u001b[37m\u001b[0m \u001b[1m0s\u001b[0m 8ms/step - loss: 0.2725 - mean_absolute_error: 0.4451 - val_loss: 0.3373 - val_mean_absolute_error: 0.4592\n",
            "Epoch 29/30\n",
            "\u001b[1m5/5\u001b[0m \u001b[32m━━━━━━━━━━━━━━━━━━━━\u001b[0m\u001b[37m\u001b[0m \u001b[1m0s\u001b[0m 9ms/step - loss: 0.3154 - mean_absolute_error: 0.4111 - val_loss: 0.2604 - val_mean_absolute_error: 0.4246\n",
            "Epoch 30/30\n",
            "\u001b[1m5/5\u001b[0m \u001b[32m━━━━━━━━━━━━━━━━━━━━\u001b[0m\u001b[37m\u001b[0m \u001b[1m0s\u001b[0m 8ms/step - loss: 0.2678 - mean_absolute_error: 0.4085 - val_loss: 0.2345 - val_mean_absolute_error: 0.4043\n"
          ]
        },
        {
          "output_type": "display_data",
          "data": {
            "text/plain": [
              "<Figure size 1200x600 with 2 Axes>"
            ],
            "image/png": "[encoded data removed]"
          },
          "metadata": {}
        },
        {
          "output_type": "stream",
          "name": "stderr",
          "text": [
            "WARNING:absl:You are saving your model as an HDF5 file via `model.save()` or `keras.saving.save_model(model)`. This file format is considered legacy. We recommend using instead the native Keras format, e.g. `model.save('my_model.keras')` or `keras.saving.save_model(model, 'my_model.keras')`. \n"
          ]
        },
        {
          "output_type": "stream",
          "name": "stdout",
          "text": [
            "Saved artifact at '/tmp/tmpepnju7d9'. The following endpoints are available:\n",
            "\n",
            "* Endpoint 'serve'\n",
            "  args_0 (POSITIONAL_ONLY): TensorSpec(shape=(None, 2), dtype=tf.float32, name='keras_tensor_110')\n",
            "Output Type:\n",
            "  TensorSpec(shape=(None, 1), dtype=tf.float32, name=None)\n",
            "Captures:\n",
            "  138661980123408: TensorSpec(shape=(), dtype=tf.resource, name=None)\n",
            "  138661978938128: TensorSpec(shape=(), dtype=tf.resource, name=None)\n",
            "  138661978938304: TensorSpec(shape=(), dtype=tf.resource, name=None)\n",
            "  138661978937248: TensorSpec(shape=(), dtype=tf.resource, name=None)\n",
            "  138661978935840: TensorSpec(shape=(), dtype=tf.resource, name=None)\n",
            "  138661978932848: TensorSpec(shape=(), dtype=tf.resource, name=None)\n",
            "  138661978943408: TensorSpec(shape=(), dtype=tf.resource, name=None)\n",
            "  138661978935664: TensorSpec(shape=(), dtype=tf.resource, name=None)\n",
            "Model saved and converted successfully!\n",
            "Model training and saving completed!\n"
          ]
        }
      ]
    },
    {
      "cell_type": "markdown",
      "source": [
        "## Predict urgency scores"
      ],
      "metadata": {
        "id": "Dr-Dv0mvNSQ6"
      }
    },
    {
      "cell_type": "markdown",
      "source": [
        "#### 7. Function to Predict urgency scores"
      ],
      "metadata": {
        "id": "7NWY6qMsNb97"
      }
    },
    {
      "cell_type": "code",
      "source": [
        "def predict_urgency(model, input_data, le, scaler):\n",
        "    # Encode categories for prediction\n",
        "    input_data[\"Kategori_Encoded\"] = le.transform(input_data[\"Kategori\"])\n",
        "    input_data[\"Jumlah_Normalized\"] = scaler.transform(input_data[[\"Jumlah\"]])\n",
        "\n",
        "    # Prepare features\n",
        "    features = input_data[[\"Jumlah_Normalized\", \"Kategori_Encoded\"]]\n",
        "\n",
        "    # Predict urgency scores\n",
        "    predictions = model.predict(features)\n",
        "    input_data[\"Skor Urgensi\"] = predictions\n",
        "\n",
        "    # Map urgency scores to labels\n",
        "    urgency_reverse_map = {1: \"Tinggi\", 2: \"Sedang\", 3: \"Rendah\"}\n",
        "\n",
        "    # Determine urgency label based on rounded scores\n",
        "    input_data[\"Label Urgensi\"] = pd.Series(\n",
        "        predictions.ravel().round().clip(1, 3).astype(int)\n",
        "    ).map(urgency_reverse_map)\n",
        "\n",
        "    # Sort data by urgency scores\n",
        "    sorted_data = input_data.sort_values(by=\"Skor Urgensi\", ascending=True).reset_index(drop=True)\n",
        "    sorted_data[\"No\"] = range(1, len(sorted_data) + 1)  # Add a numbering column\n",
        "\n",
        "    # Return the results in a formatted table\n",
        "    return sorted_data[[\"No\", \"Kategori_User\", \"Jumlah\", \"Skor Urgensi\", \"Label Urgensi\"]]"
      ],
      "metadata": {
        "id": "6MdGYQpCNTEK"
      },
      "execution_count": 32,
      "outputs": []
    },
    {
      "cell_type": "markdown",
      "source": [
        "## Handle User Input Categories"
      ],
      "metadata": {
        "id": "0pfZV6cNLUrG"
      }
    },
    {
      "cell_type": "markdown",
      "source": [
        "#### 8. Handle input categories with Pengeluaran + Kategori"
      ],
      "metadata": {
        "id": "qttEjwcpLZQU"
      }
    },
    {
      "cell_type": "code",
      "source": [
        "def handle_input_category(input_category, dataset_categories):\n",
        "    best_match = None\n",
        "    best_ratio = 0.0\n",
        "\n",
        "    # Pencocokan input pengguna dengan data kombinasi 'Pengeluaran + Kategori Asli'\n",
        "    for pengeluaran, kategori_asli in zip(dataset_categories['Pengeluaran'], dataset_categories['Kategori_Asli']):\n",
        "        combined_category = f\"{pengeluaran} {kategori_asli}\"  # Gabungkan Pengeluaran + Kategori Asli\n",
        "        ratio = SequenceMatcher(None, input_category.lower(), combined_category.lower()).ratio()  # Case insensitive matching\n",
        "\n",
        "        if ratio > best_ratio and ratio > 0.45:  # Ambil kecocokan terbaik di atas threshold\n",
        "            best_match = kategori_asli\n",
        "            best_ratio = ratio\n",
        "\n",
        "    if best_match:\n",
        "        print(f\"Kategori ditemukan: '{best_match}', Ratio: {best_ratio:.2f}\")\n",
        "        return input_category, best_match  # Kategori asli ditemukan\n",
        "    else:\n",
        "        print(f\"Kategori tidak ditemukan. Menggunakan input pengguna sebagai 'Lain lain', Ratio: {best_ratio:.2f}\")\n",
        "        return input_category, \"Lain lain\"  # Kategori backend \"Lain lain\", tetapi tampilkan input asli pengguna"
      ],
      "metadata": {
        "id": "BKfQO_adLKaa"
      },
      "execution_count": 33,
      "outputs": []
    },
    {
      "cell_type": "markdown",
      "source": [
        "## Load and Use the Model"
      ],
      "metadata": {
        "id": "oaSv1mSQLjgG"
      }
    },
    {
      "cell_type": "markdown",
      "source": [
        "#### 9. Function to load the pre-trained model"
      ],
      "metadata": {
        "id": "cLR_QCLGLlov"
      }
    },
    {
      "cell_type": "code",
      "source": [
        "def load_model():\n",
        "    model_path = 'models/predict_model.h5'\n",
        "    if os.path.exists(model_path):\n",
        "        model = tf.keras.models.load_model(model_path)\n",
        "        print(\"Model loaded successfully!\")\n",
        "        return model\n",
        "    else:\n",
        "        print(\"Model not found. Please train the model first.\")\n",
        "        exit()"
      ],
      "metadata": {
        "id": "v8Fz2EAzLgPq"
      },
      "execution_count": 29,
      "outputs": []
    },
    {
      "cell_type": "markdown",
      "source": [
        "## Main function to predict"
      ],
      "metadata": {
        "id": "CQJYrCkKL0Ug"
      }
    },
    {
      "cell_type": "code",
      "source": [
        "model = load_model()\n",
        "data = load_data(\"data/dataset.csv\")\n",
        "data, le, scaler = preprocess_data(data)\n",
        "\n",
        "input_data = []  # Initialize an empty list to store input data\n",
        "print(\"===== Prediksi Urgensi Pengeluaran =====\")\n",
        "while True:\n",
        "    kategori = input(\"Masukkan kategori: \")\n",
        "    jumlah = input(\"Masukkan nominal: \")\n",
        "\n",
        "    try:\n",
        "        jumlah = float(jumlah)  # Convert the amount to float\n",
        "        kategori_user, kategori_backend = handle_input_category(kategori, data[['Pengeluaran', 'Kategori_Asli']])\n",
        "        input_data.append({\"Kategori_User\": kategori_user, \"Kategori\": kategori_backend, \"Jumlah\": jumlah})\n",
        "    except ValueError:\n",
        "        print(\"Jumlah harus berupa angka. Coba lagi.\")\n",
        "\n",
        "    tambah = input(\"Tambah pengeluaran lain? (y/n): \").lower()\n",
        "    if tambah != 'y':\n",
        "        break\n",
        "\n",
        "# Create DataFrame from user input\n",
        "input_data = pd.DataFrame(input_data)\n",
        "\n",
        "# Predict urgency\n",
        "results = predict_urgency(model, input_data, le, scaler)\n",
        "\n",
        "# Display results with formatted columns\n",
        "print(\"===== Hasil Prediksi =====\")\n",
        "print(results.rename(columns={\"Kategori_Asli\": \"Kategori\"}).to_string(index=False))"
      ],
      "metadata": {
        "colab": {
          "base_uri": "https://localhost:8080/"
        },
        "id": "LtX929JmLu-M",
        "outputId": "397b3fa2-e495-48aa-fd7e-28b35aaa5ba5"
      },
      "execution_count": 35,
      "outputs": [
        {
          "output_type": "stream",
          "name": "stderr",
          "text": [
            "WARNING:absl:Compiled the loaded model, but the compiled metrics have yet to be built. `model.compile_metrics` will be empty until you train or evaluate the model.\n"
          ]
        },
        {
          "output_type": "stream",
          "name": "stdout",
          "text": [
            "Model loaded successfully!\n",
            "===== Prediksi Urgensi Pengeluaran =====\n",
            "Masukkan kategori: tagihan\n",
            "Masukkan nominal: 300000\n",
            "Kategori ditemukan: 'Tagihan', Ratio: 0.70\n",
            "Tambah pengeluaran lain? (y/n): y\n",
            "Masukkan kategori: belanja\n",
            "Masukkan nominal: 180000\n",
            "Kategori ditemukan: 'Belanja', Ratio: 0.64\n",
            "Tambah pengeluaran lain? (y/n): y\n",
            "Masukkan kategori: pendidikan\n",
            "Masukkan nominal: 750000\n",
            "Kategori ditemukan: 'Pendidikan', Ratio: 0.83\n",
            "Tambah pengeluaran lain? (y/n): y\n",
            "Masukkan kategori: donasi\n",
            "Masukkan nominal: 50000\n",
            "Kategori ditemukan: 'Donasi', Ratio: 0.63\n",
            "Tambah pengeluaran lain? (y/n): n\n",
            "\u001b[1m1/1\u001b[0m \u001b[32m━━━━━━━━━━━━━━━━━━━━\u001b[0m\u001b[37m\u001b[0m \u001b[1m0s\u001b[0m 60ms/step\n",
            "===== Hasil Prediksi =====\n",
            " No Kategori_User   Jumlah  Skor Urgensi Label Urgensi\n",
            "  1       tagihan 300000.0      1.493127        Tinggi\n",
            "  2    pendidikan 750000.0      1.533232        Sedang\n",
            "  3       belanja 180000.0      2.880723        Rendah\n",
            "  4        donasi  50000.0      2.918346        Rendah\n"
          ]
        }
      ]
    }
  ]
}